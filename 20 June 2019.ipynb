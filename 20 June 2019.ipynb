{
 "cells": [
  {
   "cell_type": "markdown",
   "metadata": {},
   "source": [
    "#### Date : 20 June 2019\n",
    "\n",
    "## Day Objectives\n",
    "\n",
    "### Regular Expressions\n",
    "\n",
    "- Constructing Regular Expressions for various use cases\n",
    "- Regular Expressions Module and related in Python\n",
    "- Improving the contacts application with name and phone number validation using Regular Expression\n",
    "\n",
    "### File Handling\n",
    "- Text Files\n",
    "- Upgrading the contacts Application to store contact information in a text file"
   ]
  },
  {
   "cell_type": "code",
   "execution_count": null,
   "metadata": {},
   "outputs": [],
   "source": []
  },
  {
   "cell_type": "markdown",
   "metadata": {},
   "source": [
    "### Regular Expressions\n",
    "\n",
    "- Pattern Matching\n",
    "- Synbolic Notation of a pattern\n",
    "    - Pattern : Format which repeats\n",
    "    - Pattern(RE) : Represents the set of all  values strings match that particular pattern\n",
    "- [0-9] -> Any Digit\n",
    "- [a-z] -> Any lower case alphabet\n",
    "- [2468] -> All multiples of 2\n",
    "- ^[0-9]{1}$ -> Only single digit numbers\n",
    "\n",
    "- ^[0-9]{3}$ -> Only 3 digit number\n",
    "\n",
    "- [0-9]*0$  -> All Multiples of 10\n",
    "\n",
    "- ^([1-9][0-9]*[05])|([5])$          -> All multiples of 5\n",
    "\n",
    "- ^[1-9][0-9]{9}$                    -> All 10 digit numbers\n",
    "\n",
    "- [w][o][r][d] or (word)             -> searching for word\n",
    "\n",
    "- ^[6-9][0-9]{9}$|^[0][6-9][0-9]{9}|^[+][9][1][6-9][0-9]{9}$  -> Validating Phone number(India)(start with 9876 followed by                                                                  9 digits)\n",
    "\n",
    "- ->                                                          -> Email validation(username@domain.extension)\n",
    "    \n",
    "    \n",
    "    - username(`^[0-9a-z][0-9a-z_.]{4,13}[0-9][a-z]$`)\n",
    "        - length of username : [6, 15]\n",
    "        - No special chaacter other than _ .\n",
    "        - Should not begin and end with _ .\n",
    "        - Character set : all digits and alphabet\n",
    "    - domain\n",
    "        - Length of domain : [3, 18]\n",
    "        - No special characters\n",
    "        - Character Set : all digits and alphabet\n",
    "    - extension\n",
    "        -Length of extension : [2, 4]\n",
    "        - No special characters\n",
    "        - Character Set : lower case alphabet '^[a-zA-z0-9._]+@[A-Za-z].+[a-z]$`\n",
    "\n",
    "- ^[a]........[z]$ -> Any string of length 5 that starts with 'a' and ends with 'z'\n",
    "\n",
    "- ^[a].*[z]$ -> Any string of any length that starting with 'a' and ends with 'z'"
   ]
  },
  {
   "cell_type": "code",
   "execution_count": null,
   "metadata": {},
   "outputs": [],
   "source": []
  },
  {
   "cell_type": "code",
   "execution_count": 10,
   "metadata": {},
   "outputs": [
    {
     "data": {
      "text/plain": [
       "True"
      ]
     },
     "execution_count": 10,
     "metadata": {},
     "output_type": "execute_result"
    }
   ],
   "source": [
    "# Function to validate a phone number in python\n",
    "\n",
    "import re \n",
    "def phoneNumberValidator(number):\n",
    "    pattern = '^[6-9][0-9]{9}$|^[0][6-9][0-9]{9}|^[+][9][1][6-9][0-9]{9}$'\n",
    "    if re.match(pattern,str(number)):\n",
    "        return True\n",
    "    return False\n",
    "phoneNumberValidator(9000092227)\n",
    "    "
   ]
  },
  {
   "cell_type": "code",
   "execution_count": 6,
   "metadata": {},
   "outputs": [
    {
     "name": "stdout",
     "output_type": "stream",
     "text": [
      "contacts name2 already exists\n"
     ]
    }
   ],
   "source": [
    "contacts = {\"name1\":[9000092227, 'name1@domain.ext'], }\n",
    "\n",
    "def addContact(name, phone):\n",
    "    # verify that the contact doesnot already exits\n",
    "    if name not in contacts:\n",
    "        contacts[name] = phone\n",
    "    if name in contacts:\n",
    "        print(\"contacts %s already exists\" % name)\n",
    "    elif not phoneNumberValidator(phone):\n",
    "        print(\"Phone number is invalid\")\n",
    "    return\n",
    "addContact(\"name2\", 9000092222)\n",
    "\n"
   ]
  },
  {
   "cell_type": "code",
   "execution_count": 11,
   "metadata": {},
   "outputs": [
    {
     "data": {
      "text/plain": [
       "9000092227"
      ]
     },
     "execution_count": 11,
     "metadata": {},
     "output_type": "execute_result"
    }
   ],
   "source": [
    "contacts = {}\n",
    "def addContact(phone,email):\n",
    "    # Verify that contact doesnot already exist \n",
    "    li=[]\n",
    "    li.append(phone)\n",
    "    li.append(email)\n",
    "    return li\n",
    "    \n",
    "#     if name not in contacts and phoneNumberValidator(phone):\n",
    "#         contacts[name] = li\n",
    "#         print(\"contact %s added\" % name)\n",
    "#     if name in contacts:\n",
    "#         print(\"Contact %s already exists\" % name)\n",
    "#     elif not phoneNumberValidator(phone):\n",
    "#         print(\"Phone number is inValid\")\n",
    "# addContact(\"name2\",\"9000092222\")\n",
    "li=addContact(9000092227,\"srinivas@gmail.com\")\n",
    "li[0]"
   ]
  },
  {
   "cell_type": "code",
   "execution_count": 14,
   "metadata": {},
   "outputs": [
    {
     "name": "stdout",
     "output_type": "stream",
     "text": [
      "name1 does not exist \n"
     ]
    }
   ],
   "source": [
    "\n",
    "\n",
    "def searchContacts(name):\n",
    "    if name in contacts:\n",
    "        print(name)\n",
    "        print(\"Phone :\",contacts[name][0])\n",
    "        print(\"Email :\",contacts[name][1])\n",
    "    else:\n",
    "        print(\"%s does not exist \" % name)\n",
    "    return\n",
    "searchContacts(\"name1\")\n"
   ]
  },
  {
   "cell_type": "code",
   "execution_count": 13,
   "metadata": {},
   "outputs": [
    {
     "name": "stdout",
     "output_type": "stream",
     "text": [
      "contact my name added\n"
     ]
    }
   ],
   "source": [
    "def addDetails(name,li):\n",
    "    if name not in contacts and phoneNumberValidator(li[0]):\n",
    "        contacts[name] = li\n",
    "        print(\"contact %s added\" % name)\n",
    "    elif not phoneNumberValidator(phone):\n",
    "        print(\"Phone number is inValid\")\n",
    "li=addContact(9000092227,\"srinivas@gmail.com\")\n",
    "addDetails(\"my name\",li)"
   ]
  },
  {
   "cell_type": "code",
   "execution_count": null,
   "metadata": {},
   "outputs": [],
   "source": [
    "contacts\n",
    "\n",
    "    \n",
    "\n",
    "# New contacts is given as a dictionary \n",
    "# Merge new contacts with existing contacts\n",
    "def importContacts(newContacts):\n",
    "    contacts.update(newContacts)\n",
    "    print(len(newContacts.keys()), \"contacts added successfully\")\n",
    "    return\n",
    "newContacts = {\"name2\": 9963157129, \"name3\": 7893819171}\n",
    "importContacts(newContacts)"
   ]
  },
  {
   "cell_type": "code",
   "execution_count": 19,
   "metadata": {},
   "outputs": [
    {
     "name": "stdout",
     "output_type": "stream",
     "text": [
      "name does not exist \n"
     ]
    }
   ],
   "source": [
    "def updateContact(name,phone):\n",
    "    if name in contacts:\n",
    "        contacts[name] = phone\n",
    "    else:\n",
    "        print(\"%s does not exist \" % name)\n",
    "updateContact(\"name\",\"9989120120\")"
   ]
  },
  {
   "cell_type": "code",
   "execution_count": 23,
   "metadata": {},
   "outputs": [
    {
     "name": "stdout",
     "output_type": "stream",
     "text": [
      "aaaa \n",
      " phone:  9000092227 \n",
      " Email:  srinivas@gmail.com\n",
      "my name \n",
      " phone:  9000092227 \n",
      " Email:  srinivas@gmail.com\n"
     ]
    }
   ],
   "source": [
    "# Function to list all contacts\n",
    "\n",
    "def listAllContacts():\n",
    "    for contact,info in contacts.items():\n",
    "        print(contact,\"\\n\",\"phone: \",info[0],\"\\n\",\"Email: \",info[1])\n",
    "listAllContacts()\n",
    "        \n",
    "    "
   ]
  },
  {
   "cell_type": "code",
   "execution_count": 24,
   "metadata": {},
   "outputs": [
    {
     "data": {
      "text/plain": [
       "dict_items([('aaaa', [9000092227, 'srinivas@gmail.com']), ('my name', [9000092227, 'srinivas@gmail.com'])])"
      ]
     },
     "execution_count": 24,
     "metadata": {},
     "output_type": "execute_result"
    }
   ],
   "source": [
    "contacts.items()"
   ]
  },
  {
   "cell_type": "code",
   "execution_count": null,
   "metadata": {},
   "outputs": [],
   "source": [
    "# Function to edit contact information\n",
    "\n",
    "# def editContact(name, phone, email):\n",
    "    \n",
    "    "
   ]
  },
  {
   "cell_type": "code",
   "execution_count": null,
   "metadata": {},
   "outputs": [],
   "source": []
  },
  {
   "cell_type": "markdown",
   "metadata": {},
   "source": [
    "### File Handling in Python\n",
    "\n",
    " **File** - Document containing information residing on the permanent storage\n",
    " \n",
    " **Types** - Text, PDF, CSV etc.\n",
    " \n",
    " **File I/O** - Channelling I/O data to files \n",
    " \n",
    " **Default I/O channels** - Keyboard / Screen\n",
    " \n",
    " Change I/O channel to files for reading and writing\n",
    " \n",
    " Read a file - Input from file\n",
    " \n",
    " Write to a file - Output to a file\n",
    " \n",
    " Read / Write file - Open(filename, mode)\n",
    " \n",
    " \n",
    " \n",
    " "
   ]
  },
  {
   "cell_type": "code",
   "execution_count": 25,
   "metadata": {},
   "outputs": [
    {
     "name": "stdout",
     "output_type": "stream",
     "text": [
      "Line1\n",
      "Line2\n",
      "Line3Line1\n",
      "Line2\n",
      "Line3\n"
     ]
    }
   ],
   "source": [
    "# Function to read a file\n",
    "\n",
    "def readFile(filename):\n",
    "    f = open(filename, 'r')\n",
    "    filedata = f. read()\n",
    "    f.close()\n",
    "    return filedata\n",
    "filename = 'Datafiles/data.txt'\n",
    "filedata = readFile(filename)\n",
    "#for line in filedata.split('\\n'):\n",
    " #   print(line)\n",
    "    \n",
    "def printFileDataLines(filename):\n",
    "    f = open(filename, 'r')\n",
    "    for line in f:\n",
    "        print(line, end='')\n",
    "    return\n",
    "printFileDataLines(filename)\n",
    "print(readFile(filename))\n"
   ]
  },
  {
   "cell_type": "code",
   "execution_count": 26,
   "metadata": {},
   "outputs": [],
   "source": [
    "# Function to write data into a file\n",
    "\n",
    "def writeIntoFile(filename, filedata):\n",
    "    with open(filename, 'w') as f:\n",
    "        f.write(filedata)\n",
    "    return \n",
    "filename = 'Datafiles/data.txt'\n",
    "\n",
    "writeIntoFile(filename, \"new data\")"
   ]
  },
  {
   "cell_type": "code",
   "execution_count": 34,
   "metadata": {},
   "outputs": [],
   "source": [
    "# Function to append data to a file\n",
    "\n",
    "def appendDataToFile(filename, filedata):\n",
    "    with open(filename, 'a') as f :\n",
    "        for line in filedata:\n",
    "            f.write(line)\n",
    "    return\n",
    "\n",
    "filedata = [\"Line4\", \"Line5\"]\n",
    "appendDataToFile(filename, filedata)"
   ]
  },
  {
   "cell_type": "code",
   "execution_count": null,
   "metadata": {},
   "outputs": [],
   "source": []
  },
  {
   "cell_type": "code",
   "execution_count": null,
   "metadata": {},
   "outputs": [],
   "source": []
  }
 ],
 "metadata": {
  "kernelspec": {
   "display_name": "Python 3",
   "language": "python",
   "name": "python3"
  },
  "language_info": {
   "codemirror_mode": {
    "name": "ipython",
    "version": 3
   },
   "file_extension": ".py",
   "mimetype": "text/x-python",
   "name": "python",
   "nbconvert_exporter": "python",
   "pygments_lexer": "ipython3",
   "version": "3.7.3"
  }
 },
 "nbformat": 4,
 "nbformat_minor": 2
}
