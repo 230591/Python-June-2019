{
 "cells": [
  {
   "cell_type": "markdown",
   "metadata": {},
   "source": [
    "### Markdown Basics\n",
    "\n",
    "* **Bold**\n",
    "* *Italic*\n",
    "* ***IB***\n",
    "* Normal Text\n",
    "  * SUblist 1\n",
    "  * Sublist 2\n",
    "  \n",
    "  \n",
    "1. Orderedlist element 1\n",
    "2. Orderedlist element 2\n",
    "\n",
    "\n",
    "- [ ] Option1\n",
    "- [ ] Option1\n",
    "- [x] Option1\n",
    "\n",
    "\n",
    "I get 10 times more traffic from [Google] [1] than from [Yahoo] [2] or [MSN] [3].\n",
    "\n",
    "[1]: http://google.com/ \"Google\"\n",
    "[2]: http://search.yahoo.com/   \"Yahoo search\"\n",
    "[3]: http://search.msn.com/     \"msn search\"\n",
    "\n",
    "print(\"Hello Markdown\")\n",
    "\n",
    "<https://google.com/>\n",
    "\n",
    "\n",
    "<markdown@gmail.com>\n",
    "\n",
    "\n",
    "\n",
    "\n",
    "![Jupyter Logo](logo.png)\n",
    "\n",
    "\n",
    "<img src=\"logo.png\" style=\"float:left\" width=\"100px\" height=\"100px\">\n",
    "\n",
    "\n"
   ]
  },
  {
   "cell_type": "code",
   "execution_count": null,
   "metadata": {},
   "outputs": [],
   "source": []
  },
  {
   "cell_type": "code",
   "execution_count": null,
   "metadata": {},
   "outputs": [],
   "source": []
  },
  {
   "cell_type": "code",
   "execution_count": null,
   "metadata": {},
   "outputs": [],
   "source": []
  },
  {
   "cell_type": "markdown",
   "metadata": {},
   "source": [
    "### Python Basics\n",
    " \n",
    "#### Python version 3.7\n",
    " * Scripting\n",
    " * Object Oriented\n",
    " * Functional"
   ]
  },
  {
   "cell_type": "code",
   "execution_count": 7,
   "metadata": {},
   "outputs": [
    {
     "name": "stdout",
     "output_type": "stream",
     "text": [
      "Good Afternoon ! || Hello Python\n"
     ]
    }
   ],
   "source": [
    "# Python Comments\n",
    "\n",
    "print(\"Good Afternoon !\", end=\" || \") # Basic Output\n",
    "print(\"Hello Python\")"
   ]
  },
  {
   "cell_type": "markdown",
   "metadata": {},
   "source": []
  },
  {
   "cell_type": "markdown",
   "metadata": {},
   "source": [
    "### Assignment"
   ]
  },
  {
   "cell_type": "code",
   "execution_count": 12,
   "metadata": {},
   "outputs": [
    {
     "name": "stdout",
     "output_type": "stream",
     "text": [
      "123 234 345\n"
     ]
    }
   ],
   "source": [
    "n1 = 12345 #single variable assignment\n",
    "\n",
    "n2 = n3 = n4 = n1 # Multi Variable Assignment of the same value\n",
    "\n",
    "a,b,c = 123, 234, 345 # Multi variable assignment\n",
    "\n",
    "\n",
    "print(a, b,c)"
   ]
  },
  {
   "cell_type": "code",
   "execution_count": null,
   "metadata": {},
   "outputs": [],
   "source": []
  },
  {
   "cell_type": "markdown",
   "metadata": {},
   "source": [
    "### Data Types  \n",
    "- int\n",
    "- float\n",
    "- string\n",
    "- double"
   ]
  },
  {
   "cell_type": "code",
   "execution_count": 27,
   "metadata": {},
   "outputs": [
    {
     "data": {
      "text/plain": [
       "12.0"
      ]
     },
     "execution_count": 27,
     "metadata": {},
     "output_type": "execute_result"
    }
   ],
   "source": [
    "type(a)\n",
    "s1 =\"Python\"\n",
    "type(s1)\n",
    "\n",
    "f1 = 12.345\n",
    "type(f1)\n",
    "\n",
    "float(str(int(f1)))"
   ]
  },
  {
   "cell_type": "code",
   "execution_count": null,
   "metadata": {},
   "outputs": [],
   "source": []
  },
  {
   "cell_type": "markdown",
   "metadata": {},
   "source": [
    "### Arithmatic Operations\n",
    "- +\n",
    "- -\n",
    " %\n",
    " **"
   ]
  },
  {
   "cell_type": "code",
   "execution_count": null,
   "metadata": {},
   "outputs": [],
   "source": []
  },
  {
   "cell_type": "code",
   "execution_count": 33,
   "metadata": {},
   "outputs": [
    {
     "data": {
      "text/plain": [
       "str"
      ]
     },
     "execution_count": 33,
     "metadata": {},
     "output_type": "execute_result"
    }
   ],
   "source": [
    "n1 % 11\n",
    "\n",
    "n3 = n2 ** 123456\n",
    "\n",
    "type(n3)\n",
    "len(str(n3))\n",
    "\n",
    "\n",
    "atoms = 10**20\n",
    "len(str(atoms))\n",
    "type(str(atoms))"
   ]
  },
  {
   "cell_type": "code",
   "execution_count": null,
   "metadata": {},
   "outputs": [],
   "source": []
  },
  {
   "cell_type": "markdown",
   "metadata": {},
   "source": [
    "### Conditionals"
   ]
  },
  {
   "cell_type": "code",
   "execution_count": null,
   "metadata": {},
   "outputs": [],
   "source": [
    "if atoms<10 ** 9\n",
    "\n",
    "print(\"True\")"
   ]
  },
  {
   "cell_type": "code",
   "execution_count": null,
   "metadata": {},
   "outputs": [],
   "source": [
    "n = 123\n",
    "if n % 2 == 0:\n",
    "    print('Even')\n",
    "    \n",
    "else:\n",
    "    print('Odd')"
   ]
  },
  {
   "cell_type": "code",
   "execution_count": 2,
   "metadata": {},
   "outputs": [
    {
     "name": "stdout",
     "output_type": "stream",
     "text": [
      "Enter 1st number: 23\n",
      "Enter 2nd number: 26\n",
      "Enter 3rd number: 34\n",
      "34 is greater\n"
     ]
    }
   ],
   "source": [
    "# Find the greatest of three numbers\n",
    "n1=int(input(\"Enter 1st number: \"))\n",
    "n2=int(input(\"Enter 2nd number: \"))\n",
    "n3=int(input(\"Enter 3rd number: \"))\n",
    "if n1 > n2 and n1 > n3:\n",
    "    print(n1,'is greater')\n",
    "elif n2 > n3:\n",
    "    print(n2,'is greater')\n",
    "else:\n",
    "    print(n3,'is greater')"
   ]
  },
  {
   "cell_type": "code",
   "execution_count": 3,
   "metadata": {},
   "outputs": [
    {
     "name": "stdout",
     "output_type": "stream",
     "text": [
      "Enter year: 3019\n",
      "False\n"
     ]
    }
   ],
   "source": [
    "# check if leap year\n",
    "n=int(input(\"Enter year: \"))\n",
    "def leapyear(n):\n",
    "    if (n%4 == 0 and n%100 !=0) or n%400 ==0:\n",
    "        return True\n",
    "    else:\n",
    "        return False\n",
    "print(leapyear(n))"
   ]
  },
  {
   "cell_type": "code",
   "execution_count": null,
   "metadata": {},
   "outputs": [],
   "source": [
    "# number in given range\n",
    "n=int(input(\"Enter number: \"))\n",
    "i=int(input(\"Enter i: \"))\n",
    "j=int(input(\"Enter j: \"))\n",
    "def inRange(n,i,j):\n",
    "    if n >= i and n<=j:\n",
    "        return True\n",
    "    else:\n",
    "        return False\n",
    "    \n",
    "print(inRange(n,i,j))"
   ]
  },
  {
   "cell_type": "code",
   "execution_count": null,
   "metadata": {},
   "outputs": [],
   "source": [
    "#calculate the number of digits in a number\n",
    "n=int(input(\"Enter number: \"))\n",
    "def noDigits(n):\n",
    "    i=0\n",
    "    while n!=0:\n",
    "        i=i+1\n",
    "        n//=10\n",
    "    return i\n",
    "print(noDigits(n))"
   ]
  },
  {
   "cell_type": "code",
   "execution_count": null,
   "metadata": {},
   "outputs": [],
   "source": [
    "#check a number multiple of 10\n",
    "a=int(input(\"Enter number: \"))\n",
    "def multiple10(a):\n",
    "    if a%10 == 0:\n",
    "        return True\n",
    "    else:\n",
    "        return False\n",
    "print(multiple10(a))"
   ]
  },
  {
   "cell_type": "code",
   "execution_count": null,
   "metadata": {},
   "outputs": [],
   "source": [
    "a=int(input(\"Enter number: \"))\n",
    "def factor1000(a):\n",
    "    if a%1000 == 0:\n",
    "        return True\n",
    "    else:\n",
    "        return False\n",
    "print(factor1000(a))"
   ]
  },
  {
   "cell_type": "code",
   "execution_count": null,
   "metadata": {},
   "outputs": [],
   "source": [
    "#Check if string is equivalent to number\n",
    "st = input(\"enter string: \")\n",
    "def strint(st):\n",
    "    print(int(st))\n",
    "    if st == int(st):\n",
    "        return True\n",
    "    else:\n",
    "        return False\n",
    "strint(st)\n"
   ]
  },
  {
   "cell_type": "code",
   "execution_count": null,
   "metadata": {},
   "outputs": [],
   "source": [
    "#square root of a number\n",
    "n=int(input(\"Enter number: \"))\n",
    "def squareRoot(n):\n",
    "    return n ** (1/2)\n",
    "squareRoot(n)"
   ]
  },
  {
   "cell_type": "code",
   "execution_count": null,
   "metadata": {},
   "outputs": [],
   "source": [
    "#nano seconds \n",
    "n=int(input(\"Enter year: \"))\n",
    "def leapyear(n):\n",
    "    if (n%4 == 0 and n%100 !=0) or n%400 ==0:\n",
    "        return True\n",
    "    else:\n",
    "        return False\n",
    "if leapyear(n):\n",
    "    print(366*24*60*60*(10**9))\n",
    "else:\n",
    "    print(365*24*60*60*(10**9))\n",
    "    "
   ]
  },
  {
   "cell_type": "code",
   "execution_count": null,
   "metadata": {},
   "outputs": [],
   "source": []
  },
  {
   "cell_type": "code",
   "execution_count": null,
   "metadata": {},
   "outputs": [],
   "source": []
  },
  {
   "cell_type": "code",
   "execution_count": null,
   "metadata": {},
   "outputs": [],
   "source": []
  },
  {
   "cell_type": "code",
   "execution_count": null,
   "metadata": {},
   "outputs": [],
   "source": []
  }
 ],
 "metadata": {
  "kernelspec": {
   "display_name": "Python 3",
   "language": "python",
   "name": "python3"
  },
  "language_info": {
   "codemirror_mode": {
    "name": "ipython",
    "version": 3
   },
   "file_extension": ".py",
   "mimetype": "text/x-python",
   "name": "python",
   "nbconvert_exporter": "python",
   "pygments_lexer": "ipython3",
   "version": "3.7.3"
  }
 },
 "nbformat": 4,
 "nbformat_minor": 2
}
