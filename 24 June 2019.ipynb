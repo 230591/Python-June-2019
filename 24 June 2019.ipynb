{
 "cells": [
  {
   "cell_type": "code",
   "execution_count": 14,
   "metadata": {},
   "outputs": [],
   "source": [
    "# Function to generate marks data for n students\n",
    "\n",
    "from random import randint\n",
    "def generateMarks(n, lb, ub):\n",
    "    with open('Datafiles/marks.txt', 'w') as f:\n",
    "        for i in range(0, n):\n",
    "            r = randint(lb,ub)\n",
    "            f.write(str(r) + '\\n')\n",
    "    return  \n",
    "\n",
    "\n",
    "generateMarks(100, 0, 100)            \n",
    "        \n",
    "    \n",
    "    "
   ]
  },
  {
   "cell_type": "code",
   "execution_count": 15,
   "metadata": {},
   "outputs": [
    {
     "data": {
      "text/plain": [
       "52.34"
      ]
     },
     "execution_count": 15,
     "metadata": {},
     "output_type": "execute_result"
    }
   ],
   "source": [
    "# Marks Average\n",
    "\n",
    "def generateAverage():\n",
    "    with open('Datafiles/marks.txt', 'r') as f:\n",
    "        filedata = f.read()\n",
    "        sum = 0\n",
    "        n = 100\n",
    "        for i in filedata.split():\n",
    "            sum = sum + int(i)\n",
    "        return sum/n\n",
    "generateAverage()"
   ]
  },
  {
   "cell_type": "code",
   "execution_count": 19,
   "metadata": {},
   "outputs": [
    {
     "name": "stdout",
     "output_type": "stream",
     "text": [
      "67.0\n"
     ]
    }
   ],
   "source": [
    "# % Passed - passPercentage(filepath)\n",
    "\n",
    "def passPercentage(filepath):\n",
    "    count = 0\n",
    "    mc = 0\n",
    "    with open(filepath, 'r') as f:\n",
    "        for i in f:\n",
    "            mc = mc + 1\n",
    "            if(int(i)>=35):\n",
    "                \n",
    "                count = count + 1\n",
    "        print((count/mc)*100)\n",
    "passPercentage('Datafiles/marks.txt')"
   ]
  },
  {
   "cell_type": "code",
   "execution_count": 20,
   "metadata": {},
   "outputs": [
    {
     "name": "stdout",
     "output_type": "stream",
     "text": [
      "33.0\n"
     ]
    }
   ],
   "source": [
    " # % Failed - failPercentage(filepath)\n",
    "    \n",
    "def failPercentage(filepath):\n",
    "    count = 0\n",
    "    mc = 0\n",
    "    with open(filepath, 'r') as f:\n",
    "        for i in f:\n",
    "            mc = mc + 1\n",
    "            if(int(i)<35):\n",
    "                \n",
    "                count = count + 1\n",
    "        print((count/mc)*100)\n",
    "failPercentage('Datafiles/marks.txt')\n",
    "    "
   ]
  },
  {
   "cell_type": "code",
   "execution_count": 21,
   "metadata": {},
   "outputs": [
    {
     "data": {
      "text/plain": [
       "27.0"
      ]
     },
     "execution_count": 21,
     "metadata": {},
     "output_type": "execute_result"
    }
   ],
   "source": [
    "# Class Marks Distinction\n",
    "\n",
    "def distinctionPercentage(filepath):\n",
    "    count = 0\n",
    "    mc = 0\n",
    "    with open(filepath, 'r') as f:\n",
    "        for i in f:\n",
    "            mc = mc +1\n",
    "            if(int(i)>=75):\n",
    "                count = count+1\n",
    "        return ((count/mc)*100)\n",
    "distinctionPercentage('Datafiles/marks.txt')\n",
    "    "
   ]
  },
  {
   "cell_type": "code",
   "execution_count": 32,
   "metadata": {},
   "outputs": [
    {
     "name": "stdout",
     "output_type": "stream",
     "text": [
      "100\n",
      "1\n"
     ]
    }
   ],
   "source": [
    "# - frequency of highest marks - frequencyhighest(filepath)\n",
    "\n",
    "def freqHighest(filepath):\n",
    "    with open(filepath, 'r') as f:\n",
    "        sp = f.read().split()\n",
    "        sp = list(map(str,sp))\n",
    "        print(max(sp))\n",
    "        print(sp.count(max(sp)))\n",
    "freqHighest('Datafiles/marks.txt')"
   ]
  },
  {
   "cell_type": "code",
   "execution_count": 34,
   "metadata": {},
   "outputs": [
    {
     "data": {
      "text/plain": [
       "1"
      ]
     },
     "execution_count": 34,
     "metadata": {},
     "output_type": "execute_result"
    }
   ],
   "source": [
    "# frequency of lowest marks - frequencyLowest(filepath)\n",
    "def freqLowest(filepath):\n",
    "    with open (filepath, 'r') as f:\n",
    "        sp = f.read().split()\n",
    "        sp = list(map(str,sp))\n",
    "        # print(min(sp))\n",
    "        return sp.count(min(sp))\n",
    "freqLowest('Datafiles/marks.txt')\n",
    "        \n",
    "        "
   ]
  },
  {
   "cell_type": "code",
   "execution_count": null,
   "metadata": {},
   "outputs": [
    {
     "name": "stdout",
     "output_type": "stream",
     "text": [
      "Choose Your Option :\n",
      "1).Generation of Marks\n",
      "2).Class Average\n",
      "3).Pass Percentage\n",
      "4).Fail Percentage\n",
      "5).Distinction Percentage\n",
      "6).Highest Frequency\n",
      "7).Lowest Frequency\n",
      "85\n",
      "27.0\n",
      "Choose Your Option :\n",
      "1).Generation of Marks\n",
      "2).Class Average\n",
      "3).Pass Percentage\n",
      "4).Fail Percentage\n",
      "5).Distinction Percentage\n",
      "6).Highest Frequency\n",
      "7).Lowest Frequency\n",
      "87\n",
      "1\n"
     ]
    }
   ],
   "source": [
    "def marksAnalysis(filepath):\n",
    "    while True:\n",
    "        n = int(input(\"Choose Your Option :\\n1).Generation of Marks\\n2).Class Average\\n3).Pass Percentage\\n4).Fail Percentage\\n5).Distinction Percentage\\n6).Highest Frequency\\n7).Lowest Frequency\\n8\"))\n",
    "        if(n==1):\n",
    "            st=int(input(\"Enter No of Students marks\"))\n",
    "            generateMarks(st, 0, 100)\n",
    "        elif(n==2):\n",
    "            print(generateAverage(filepath))\n",
    "        elif(n==3):\n",
    "            print(passPercentage(filepath))\n",
    "        elif(n==4):\n",
    "            print(failPercentage(filepath))\n",
    "        elif(n==5):\n",
    "            print(distinctionPercentage(filepath))\n",
    "        elif(n==6):\n",
    "            print(freqHighest(filepath))\n",
    "        elif(n==7):\n",
    "            print(freqLowest(filepath))\n",
    "        else:\n",
    "            break\n",
    "marksAnalysis('Datafiles/marks.txt')        \n",
    "    \n",
    "    \n",
    "   "
   ]
  },
  {
   "cell_type": "markdown",
   "metadata": {},
   "source": [
    "### Marks Analysis Report\n",
    "- Generate Marks\n",
    "    - generateMarks(n, lb, ub)\n",
    "- Generate a report of the following\n",
    "    - Class Average - classAverage(filepath)\n",
    "    - % Passed - passPercentage(filepath)\n",
    "    - % Failed - failPercentage(filepath)\n",
    "    - % Distinction - distinctionPercentage(filepath)\n",
    "    - frequency of highest marks - frequencyhighest(filepath)\n",
    "    - frequency of lowest marks - frequencyLowest(filepath)\n",
    "    - GenerateReport(filepath):\n",
    "        \n",
    "### Contacts Application\n",
    "\n",
    "- addContact(name,phone,email)\n",
    "- searchContacts(name)\n",
    "- listContacts()\n",
    "- editContact(name, newphone, newemail)\n",
    "- deleteContact(name)\n",
    "- contactsApp()"
   ]
  }
 ],
 "metadata": {
  "kernelspec": {
   "display_name": "Python 3",
   "language": "python",
   "name": "python3"
  },
  "language_info": {
   "codemirror_mode": {
    "name": "ipython",
    "version": 3
   },
   "file_extension": ".py",
   "mimetype": "text/x-python",
   "name": "python",
   "nbconvert_exporter": "python",
   "pygments_lexer": "ipython3",
   "version": "3.7.3"
  }
 },
 "nbformat": 4,
 "nbformat_minor": 2
}
