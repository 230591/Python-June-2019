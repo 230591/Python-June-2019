{
 "cells": [
  {
   "cell_type": "markdown",
   "metadata": {},
   "source": [
    "### Problem Solving and Programming in Data Structures\n",
    "\n",
    "#### Date - 14 June 2019\n",
    "\n",
    "#### Day Objectives\n",
    "- Python Data Structures\n",
    "  - Lists\n",
    "  - Tuples\n",
    "  - Dictionaries\n",
    "- Basic Problem set on Data Structures\n",
    "- Advanced Problem set\n",
    "- Packages and Modules in Python"
   ]
  },
  {
   "cell_type": "code",
   "execution_count": null,
   "metadata": {},
   "outputs": [],
   "source": []
  },
  {
   "cell_type": "markdown",
   "metadata": {},
   "source": [
    "### Python Data Structures\n",
    "\n",
    "- Lists"
   ]
  },
  {
   "cell_type": "code",
   "execution_count": 3,
   "metadata": {},
   "outputs": [
    {
     "data": {
      "text/plain": [
       "[123, 345, 654, 234, 456, 789]"
      ]
     },
     "execution_count": 3,
     "metadata": {},
     "output_type": "execute_result"
    }
   ],
   "source": [
    "li = [123, 978, 654]\n",
    "\n",
    "li # Access the entire list\n",
    "\n",
    "li[1] # Access an element with Index in a list\n",
    "\n",
    "li[1:] # Accessing last two elements in a list\n",
    "\n",
    "li = li[::-1] # Reversing list elements and reas\n",
    "\n",
    "li\n",
    "\n",
    "li = li[::-1] #\n",
    "\n",
    "li[::2] # Accessing even index elements\n",
    "\n",
    "li[1::2] # Accessing odd index elements\n",
    "\n",
    "# Lists can be accessed and manipulated in two different ways\n",
    " # Indirect Referencing - [Index]\n",
    " # Direct Referencing  - through function \n",
    "\n",
    "\n",
    "li.append(345) # Adding an element to end of the list\n",
    "\n",
    "li\n",
    " \n",
    "li.insert(1, 234)    # Adding an element at a particular index \n",
    "\n",
    "li\n",
    "\n",
    "li.sort() # Sort elements in ascending order\n",
    "\n",
    "li\n",
    "\n",
    "li.pop()# Remove the last  element in a list\n",
    "\n",
    "li.pop(1)# Remove an element in a particular index\n",
    "\n",
    "li\n",
    "\n",
    "li2 = [234, 456, 789]\n",
    "\n",
    "li.extend(li2)# Merge list 2 into List 1\n",
    "\n",
    "sum(li) # It returns sum of all element in a list\n",
    "max(li) # It returns maximum element in a list\n",
    "len(li) # number of eelements in a list\n",
    "\n",
    "\n",
    "\n",
    "sum(li)/len(li)  # Average of list elements\n",
    "\n",
    "sum(li[1::2])/len(li[1::2])# Average of all alternate elements\n",
    "\n",
    "\n",
    "li"
   ]
  },
  {
   "cell_type": "code",
   "execution_count": 29,
   "metadata": {},
   "outputs": [
    {
     "name": "stdout",
     "output_type": "stream",
     "text": [
      "Second largest element is: 654\n"
     ]
    }
   ],
   "source": [
    "# Function to identify the second largest element in a list\n",
    "\n",
    "def secondLargest(li):\n",
    "    li.sort() \n",
    "    print(\"Second largest element is:\", li[-2]) \n",
    "secondLargest(li)\n",
    "\n",
    "# Function that returns the nth largest element\n",
    "#def genericLargest(li, n)"
   ]
  },
  {
   "cell_type": "code",
   "execution_count": 4,
   "metadata": {},
   "outputs": [
    {
     "data": {
      "text/plain": [
       "234"
      ]
     },
     "execution_count": 4,
     "metadata": {},
     "output_type": "execute_result"
    }
   ],
   "source": [
    "# Function to identify the second largest element in a list\n",
    "\n",
    "def secondLargest(li):\n",
    "    li.sort() \n",
    "    return li[-2]\n",
    "\n",
    "# Function that returns the nth largest element\n",
    "\n",
    "def genericLargest(li, n):\n",
    "    li.sort()\n",
    "    return li[-n]\n",
    "secondLargest(li)\n",
    "genericLargest(li, 5)"
   ]
  },
  {
   "cell_type": "code",
   "execution_count": 8,
   "metadata": {},
   "outputs": [
    {
     "data": {
      "text/plain": [
       "5"
      ]
     },
     "execution_count": 8,
     "metadata": {},
     "output_type": "execute_result"
    }
   ],
   "source": [
    "# Function to search for data in a list\n",
    "# Search for the key in the list and return the index \n",
    "\n",
    "def linearSearch(li, key):\n",
    "    for index in range(0, len(li)):\n",
    "        if li[index] == key:\n",
    "            return index\n",
    "        return -1\n",
    "def linearSearch2(li, key):\n",
    "    for element in li:\n",
    "        if element == key:\n",
    "            return li.index(element)\n",
    "    return -1\n",
    "\n",
    "def linearSearch3(li, key):\n",
    "    if key in li:\n",
    "        return li.index(key)\n",
    "    return -1\n",
    "    \n",
    "linearSearch3(li, 789)\n"
   ]
  },
  {
   "cell_type": "code",
   "execution_count": 12,
   "metadata": {},
   "outputs": [
    {
     "data": {
      "text/plain": [
       "2"
      ]
     },
     "execution_count": 12,
     "metadata": {},
     "output_type": "execute_result"
    }
   ],
   "source": [
    "# Function to count the occurances of a character in string\n",
    "# \"Python Programming\", m -> 2\n",
    "\n",
    "def countOccurances(s, subs):\n",
    "    count = 0\n",
    "    for ch in s:\n",
    "        if ch == c:\n",
    "            count += 1\n",
    "    return count\n",
    "\n",
    "def countCharOccurances2(s, c):\n",
    "    return s.count(c)\n",
    "\n",
    "countCharOccurances2(\"Python Programming\", 'm')\n",
    "\n"
   ]
  },
  {
   "cell_type": "code",
   "execution_count": null,
   "metadata": {},
   "outputs": [],
   "source": [
    "# Function to find the number of occurance of the substring\n",
    "\n",
    "def countOccurances(s, c):\n",
    "    \n",
    "    "
   ]
  },
  {
   "cell_type": "code",
   "execution_count": 13,
   "metadata": {},
   "outputs": [
    {
     "data": {
      "text/plain": [
       "[1, 2, 3, 4, 5, 6]"
      ]
     },
     "execution_count": 13,
     "metadata": {},
     "output_type": "execute_result"
    }
   ],
   "source": [
    "s= \"1 2 3 4 5 6\"\n",
    "li = s.split()\n",
    "numberlist = []\n",
    "for i in li:\n",
    "    numberlist.append(int(i))\n",
    "numberlist"
   ]
  },
  {
   "cell_type": "code",
   "execution_count": null,
   "metadata": {},
   "outputs": [],
   "source": []
  }
 ],
 "metadata": {
  "kernelspec": {
   "display_name": "Python 3",
   "language": "python",
   "name": "python3"
  },
  "language_info": {
   "codemirror_mode": {
    "name": "ipython",
    "version": 3
   },
   "file_extension": ".py",
   "mimetype": "text/x-python",
   "name": "python",
   "nbconvert_exporter": "python",
   "pygments_lexer": "ipython3",
   "version": "3.7.3"
  }
 },
 "nbformat": 4,
 "nbformat_minor": 2
}
