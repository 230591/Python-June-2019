{
 "cells": [
  {
   "cell_type": "markdown",
   "metadata": {},
   "source": [
    "## 18 June 2019\n",
    "\n",
    "### Day Objectives:\n",
    "\n",
    "**Problem set with HackerEarth:**\n",
    "- Play with Numbers\n",
    "- Special Numbers\n",
    "- Highest Remainder\n",
    "\n",
    "**Concepts:**\n",
    "- Tuples\n",
    "- Dictionaries\n",
    "- Packages and Modules in Python"
   ]
  },
  {
   "cell_type": "code",
   "execution_count": null,
   "metadata": {},
   "outputs": [],
   "source": [
    "# Reading no of \n",
    "n = input()>split()\n",
    "n[0], n[1] = int(n[0]), int(n[1])\n",
    "a = input()>split()\n",
    "sum = []\n",
    "\n",
    "for i in range(0, n):\n",
    "    if i == 0:\n",
    "        sum[i] = a[i]\n",
    "    else:\n",
    "        sum[i] = sum[i-1] + a[i]\n",
    "\n",
    "#Cumulative sum\n",
    "sum[0] = # First Element\n",
    "sum[1] = # Second Element\n",
    "sum[2] = # sum[1] + third\n",
    "\n",
    "i j\n"
   ]
  },
  {
   "cell_type": "code",
   "execution_count": null,
   "metadata": {},
   "outputs": [],
   "source": []
  },
  {
   "cell_type": "code",
   "execution_count": null,
   "metadata": {},
   "outputs": [],
   "source": []
  },
  {
   "cell_type": "code",
   "execution_count": 16,
   "metadata": {},
   "outputs": [
    {
     "name": "stdout",
     "output_type": "stream",
     "text": [
      "2\n",
      "3\n",
      "4\n",
      "NO\n",
      "5\n",
      "NO\n",
      "6\n",
      "YES\n"
     ]
    }
   ],
   "source": [
    "# Function to determine if a number is special\n",
    "\n",
    "def isspecialNumber(n, p):\n",
    "    if numberPrimeFactors(n) >= p:\n",
    "        return True\n",
    "    return False\n",
    "\n",
    "\n",
    "    \n",
    "    \n",
    "\n",
    "# Function to check if number is prime\n",
    "def isPrime(n):\n",
    "    flag = 1\n",
    "    if n == 2:\n",
    "        return True\n",
    "    \n",
    "    for i in range(2, n//2 + 1):\n",
    "        if n % i == 0:\n",
    "            flag = 0\n",
    "            return False\n",
    "    if flag == 1:\n",
    "        return True\n",
    "\n",
    "# Function to determine number of prime factors\n",
    "def numberPrimeFactors(n):\n",
    "    if isPrime(n):\n",
    "        return 1\n",
    "    count = 0\n",
    "    for i in range(2, n // 2 + 1):\n",
    "        if isPrime(i) and n % i == 0:\n",
    "            count += 1\n",
    "    return count\n",
    "\n",
    "def solution2():\n",
    "    p = int(input())\n",
    "    t = int(input())\n",
    "    for i in range (0, t):\n",
    "        n = int(input())\n",
    "        if isspecialNumber(n, p):\n",
    "            print(\"YES\")\n",
    "        else:\n",
    "            print(\"NO\")\n",
    "isspecialNumber(30, 2)\n",
    "solution2()\n",
    "\n",
    "\n",
    "\n",
    "\n",
    "        \n",
    "        \n",
    "\n"
   ]
  },
  {
   "cell_type": "markdown",
   "metadata": {},
   "source": [
    "### Problem : Highest Remainder\n",
    "- Write to program to find a natural number that is smaller than N such that N gives highest remainder when divided by that number.\n",
    "- If there is more than one such number, print the smallest one. \n",
    "\n",
    "N \n",
    "Highest = 0\n",
    "X < N and n % x == highest\n",
    "\n",
    "10\n",
    "9 1\n",
    "8 2\n",
    "7 3\n",
    "6 4\n",
    "5 0\n",
    "4 2\n",
    "3 1\n",
    "2 0"
   ]
  },
  {
   "cell_type": "code",
   "execution_count": 24,
   "metadata": {},
   "outputs": [
    {
     "name": "stdout",
     "output_type": "stream",
     "text": [
      "5\n"
     ]
    }
   ],
   "source": [
    "def highestRemainder(n):\n",
    "    hr = 0\n",
    "    v = n\n",
    "    for i in range(n-1, n // 2, + 1):\n",
    "        r = n % i\n",
    "        if r > hr:\n",
    "            hr = r\n",
    "            v = i\n",
    "    print(v)\n",
    "    return\n",
    "\n",
    "\n",
    "highestRemainder(5)\n",
    "    "
   ]
  },
  {
   "cell_type": "code",
   "execution_count": null,
   "metadata": {},
   "outputs": [],
   "source": []
  },
  {
   "cell_type": "markdown",
   "metadata": {},
   "source": [
    "### Tuples\n",
    "tl = ()\n",
    "li = []\n",
    "\n",
    "**Difference between Lists and Tuples**\n",
    "\n",
    "Lists are mutable - can be changed / modified\n",
    "- Used to Access, Modify, Add, Delete data\n",
    "\n",
    "Tuples are immutable - cannot be changed once initialised\n",
    "- Used to access data only\n",
    "- All Slicing work "
   ]
  },
  {
   "cell_type": "code",
   "execution_count": 32,
   "metadata": {},
   "outputs": [
    {
     "data": {
      "text/plain": [
       "(8, 6, 0)"
      ]
     },
     "execution_count": 32,
     "metadata": {},
     "output_type": "execute_result"
    }
   ],
   "source": [
    "tl = (1,2,8,6,0)\n",
    "\n",
    "tl[3] # Accessing the fourth element\n",
    "\n",
    "tl[len(t1)//2:] # Accessing all elements from middle to last "
   ]
  },
  {
   "cell_type": "code",
   "execution_count": 34,
   "metadata": {},
   "outputs": [
    {
     "data": {
      "text/plain": [
       "tuple"
      ]
     },
     "execution_count": 34,
     "metadata": {},
     "output_type": "execute_result"
    }
   ],
   "source": [
    "type(tl)\n",
    "    "
   ]
  },
  {
   "cell_type": "code",
   "execution_count": null,
   "metadata": {},
   "outputs": [],
   "source": []
  },
  {
   "cell_type": "markdown",
   "metadata": {},
   "source": [
    "### Dictionaries\n",
    "\n",
    "It works on the concept of set \n",
    "Unique Data\n",
    "\n",
    "\n",
    "Keys, Values\n",
    "\n",
    "Key is the unique identifier for a value\n",
    "\n",
    "Value is data that can be accessed with a key\n",
    "\n"
   ]
  },
  {
   "cell_type": "code",
   "execution_count": 47,
   "metadata": {},
   "outputs": [
    {
     "data": {
      "text/plain": [
       "True"
      ]
     },
     "execution_count": 47,
     "metadata": {},
     "output_type": "execute_result"
    }
   ],
   "source": [
    "d1 = {\"k1\":\"value1\", \"k2\":\"value2\"}\n",
    "\n",
    "d1[\"k2\"]  # Accessing the value with key \"k2\"\n",
    "d1.keys() # Returns list of all keys\n",
    "d1.values() # Returns list of all values\n",
    "d1.items() # Returns list of tuples of keys and values\n",
    "d1[\"k3\"] = \"value3\" # Adding an element to the dictionaries\n",
    "d1[\"k3\"] = \"value4\" # Updating an element\n",
    "d1.pop(\"k3\") # Removing an element\n",
    "\n",
    "\"k1\" in d1 # Searching a key in particular dictionary"
   ]
  },
  {
   "cell_type": "markdown",
   "metadata": {},
   "source": [
    "# Contacts Application\n",
    "\n",
    "- Add Contact\n",
    "- Search for Contact\n",
    "- List all contacts\n",
    "  - name1 : phone1\n",
    "  - name2 : phone2\n",
    "- Modify contact\n",
    "- Remove contact\n",
    "\n"
   ]
  },
  {
   "cell_type": "code",
   "execution_count": 5,
   "metadata": {},
   "outputs": [],
   "source": [
    "contacts = {}\n",
    "\n",
    "def addContact(name, phone):\n",
    "    # verify that the contact doesnot already exits\n",
    "    if name not in contacts:\n",
    "        contacts[name] = phone\n",
    "    else:\n",
    "        print(\"contacts %s already exists\" % name)\n",
    "    return\n",
    "addContact(\"name1\", \"9000092227\")\n"
   ]
  },
  {
   "cell_type": "code",
   "execution_count": 3,
   "metadata": {},
   "outputs": [
    {
     "name": "stdout",
     "output_type": "stream",
     "text": [
      "contacts name1 already exists\n"
     ]
    }
   ],
   "source": [
    "\n",
    "addContact(\"name1\", \"9000092227\")"
   ]
  },
  {
   "cell_type": "code",
   "execution_count": 6,
   "metadata": {},
   "outputs": [
    {
     "name": "stdout",
     "output_type": "stream",
     "text": [
      "name10 does nit exits\n"
     ]
    }
   ],
   "source": [
    "def searchContacts(name):\n",
    "    if name in contacts:\n",
    "        print(name, \":\", contacts[name])\n",
    "    else:\n",
    "        print(\"%s does not exits\" %name)\n",
    "    return\n",
    "searchContacts(\"name10\")"
   ]
  },
  {
   "cell_type": "code",
   "execution_count": 7,
   "metadata": {},
   "outputs": [
    {
     "data": {
      "text/plain": [
       "{'name1': '9000092227'}"
      ]
     },
     "execution_count": 7,
     "metadata": {},
     "output_type": "execute_result"
    }
   ],
   "source": [
    "contacts"
   ]
  },
  {
   "cell_type": "code",
   "execution_count": 8,
   "metadata": {},
   "outputs": [],
   "source": [
    "addContact(\"name2\", \"8328555851\")"
   ]
  },
  {
   "cell_type": "code",
   "execution_count": null,
   "metadata": {},
   "outputs": [],
   "source": []
  },
  {
   "cell_type": "code",
   "execution_count": 10,
   "metadata": {},
   "outputs": [
    {
     "data": {
      "text/plain": [
       "{'name1': '9000092227', 'name2': '8328555851'}"
      ]
     },
     "execution_count": 10,
     "metadata": {},
     "output_type": "execute_result"
    }
   ],
   "source": [
    "contacts"
   ]
  },
  {
   "cell_type": "code",
   "execution_count": null,
   "metadata": {},
   "outputs": [],
   "source": [
    "    "
   ]
  },
  {
   "cell_type": "code",
   "execution_count": 12,
   "metadata": {},
   "outputs": [
    {
     "name": "stdout",
     "output_type": "stream",
     "text": [
      "2 contacts added successfully\n"
     ]
    }
   ],
   "source": [
    "# New contacts is given as a dictionary \n",
    "# Merge new contacts with existing contacts\n",
    "def importContacts(newContacts):\n",
    "    contacts.update(newContacts)\n",
    "    print(len(newContacts.keys()), \"contacts added successfully\")\n",
    "    return\n",
    "newContacts = {\"name2\": 9963157129, \"name3\": 7893819171}\n",
    "importContacts(newContacts)"
   ]
  },
  {
   "cell_type": "code",
   "execution_count": 14,
   "metadata": {},
   "outputs": [
    {
     "name": "stdout",
     "output_type": "stream",
     "text": [
      "{'name1': '9000092227', 'name2': 9963157129, 'name3': 7893819171}\n"
     ]
    }
   ],
   "source": [
    "def getAll():\n",
    "    print(contacts)\n",
    "getAll()"
   ]
  },
  {
   "cell_type": "code",
   "execution_count": 17,
   "metadata": {},
   "outputs": [
    {
     "data": {
      "text/plain": [
       "{'name1': 998958589, 'name2': 9963157129, 'name3': 7893819171}"
      ]
     },
     "execution_count": 17,
     "metadata": {},
     "output_type": "execute_result"
    }
   ],
   "source": [
    "# Updating the contact\n",
    "def updateContact(name, phone):\n",
    "    if name in contacts:\n",
    "        contacts[name] = phone\n",
    "    else:\n",
    "        print(\"%s does not exist\" % name)\n",
    "updateContact(\"name1\", 998958589)\n",
    "contacts"
   ]
  },
  {
   "cell_type": "code",
   "execution_count": 23,
   "metadata": {},
   "outputs": [
    {
     "name": "stdout",
     "output_type": "stream",
     "text": [
      "name1 does not exist\n"
     ]
    },
    {
     "data": {
      "text/plain": [
       "{'name2': 9963157129, 'name3': 7893819171}"
      ]
     },
     "execution_count": 23,
     "metadata": {},
     "output_type": "execute_result"
    }
   ],
   "source": [
    "# Deleting the contact\n",
    "def removeContact(name, phone):\n",
    "    if name in contacts:\n",
    "        contacts.pop(name)\n",
    "    else:\n",
    "        print(\"%s does not exist\" % name)\n",
    "removeContact(\"name1\", 7893819171)\n",
    "contacts"
   ]
  },
  {
   "cell_type": "code",
   "execution_count": null,
   "metadata": {},
   "outputs": [],
   "source": []
  },
  {
   "cell_type": "markdown",
   "metadata": {},
   "source": [
    "### Packages and Modules\n",
    "\n",
    " **Packages** -> Collection of Modules(Python File.py), packages can contain collection of sub Packages\n",
    " **Sub Packages** -> \n",
    " \n",
    " **Module**   -> A Single python file containing functions\n",
    " \n",
    " Package -> Subpackages -> Modules -> Functions"
   ]
  },
  {
   "cell_type": "code",
   "execution_count": 3,
   "metadata": {},
   "outputs": [
    {
     "data": {
      "text/plain": [
       "3.141592653589793"
      ]
     },
     "execution_count": 3,
     "metadata": {},
     "output_type": "execute_result"
    }
   ],
   "source": [
    "from math import floor, pi\n",
    "\n",
    "floor(123.456)\n",
    "\n",
    "pi\n"
   ]
  },
  {
   "cell_type": "code",
   "execution_count": 6,
   "metadata": {},
   "outputs": [
    {
     "name": "stdout",
     "output_type": "stream",
     "text": [
      "63 85 49 39 24 39 50 13 5 87 "
     ]
    }
   ],
   "source": [
    "# Function to generate N random numbers\n",
    "\n",
    "import random\n",
    "\n",
    "def generateNRandomNumbers(n, lb, ub):\n",
    "    for i in range(0, n):\n",
    "        print(random.randint(lb, ub), end =\" \")\n",
    "generateNRandomNumbers(10, 0, 100)"
   ]
  },
  {
   "cell_type": "code",
   "execution_count": 1,
   "metadata": {},
   "outputs": [
    {
     "name": "stdout",
     "output_type": "stream",
     "text": [
      "48\n"
     ]
    }
   ],
   "source": [
    "from Packages import numerical\n",
    "numerical.CharSum(\"sath\")"
   ]
  },
  {
   "cell_type": "code",
   "execution_count": null,
   "metadata": {},
   "outputs": [],
   "source": []
  },
  {
   "cell_type": "code",
   "execution_count": null,
   "metadata": {},
   "outputs": [],
   "source": []
  }
 ],
 "metadata": {
  "kernelspec": {
   "display_name": "Python 3",
   "language": "python",
   "name": "python3"
  },
  "language_info": {
   "codemirror_mode": {
    "name": "ipython",
    "version": 3
   },
   "file_extension": ".py",
   "mimetype": "text/x-python",
   "name": "python",
   "nbconvert_exporter": "python",
   "pygments_lexer": "ipython3",
   "version": "3.7.3"
  }
 },
 "nbformat": 4,
 "nbformat_minor": 2
}
