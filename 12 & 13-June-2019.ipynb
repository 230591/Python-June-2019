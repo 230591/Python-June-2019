{
 "cells": [
  {
   "cell_type": "markdown",
   "metadata": {},
   "source": [
    "# Problem Solving and Programming\n",
    "\n",
    "#### Date : 12 June 2019\n",
    "\n",
    "#### Day Objectives\n",
    "\n",
    "* String Slicing\n",
    "* Functions in Python\n",
    "* Basic Problems related to conditional statements using Functions\n",
    "* Iteration in Python\n",
    "* Problem set for practice"
   ]
  },
  {
   "cell_type": "code",
   "execution_count": null,
   "metadata": {},
   "outputs": [],
   "source": []
  },
  {
   "cell_type": "markdown",
   "metadata": {},
   "source": [
    "### String Slicing"
   ]
  },
  {
   "cell_type": "code",
   "execution_count": 3,
   "metadata": {},
   "outputs": [
    {
     "data": {
      "text/plain": [
       "'python'"
      ]
     },
     "execution_count": 3,
     "metadata": {},
     "output_type": "execute_result"
    }
   ],
   "source": [
    "s1 = \"python\"\n",
    "\n",
    "s1"
   ]
  },
  {
   "cell_type": "code",
   "execution_count": 4,
   "metadata": {},
   "outputs": [
    {
     "data": {
      "text/plain": [
       "'n'"
      ]
     },
     "execution_count": 4,
     "metadata": {},
     "output_type": "execute_result"
    }
   ],
   "source": [
    "s1 = \"python\"\n",
    "\n",
    "s1[len(s1)-1]"
   ]
  },
  {
   "cell_type": "code",
   "execution_count": 5,
   "metadata": {},
   "outputs": [
    {
     "data": {
      "text/plain": [
       "'nhy'"
      ]
     },
     "execution_count": 5,
     "metadata": {},
     "output_type": "execute_result"
    }
   ],
   "source": [
    "s1 = \"python\"\n",
    "\n",
    "s1[0] #Accessing of first character in a string\n",
    "\n",
    "s1[1] # Accessing the second character in a string\n",
    "\n",
    "s1[len(s1)-1] #Accessing the last character in a string\n",
    "\n",
    "s1[-1] #Another way of accessing the last character\n",
    "\n",
    "s1[-2]  # Accessing the penultimate character of a string\n",
    "\n",
    "s1[0:2]  #Accessing the first two characters in string\n",
    "\n",
    "s1[-2:] #Accessing the last two characters in a string\n",
    "\n",
    "s1[4:]  #Accessing all characters fron 5th character to end of string\n",
    "\n",
    "s1[1:-1] #Accessing all characters except first and last character\n",
    "\n",
    "s1[len(s1)//2] #Accessing the middle character in a string\n",
    "\n",
    "s1[-1::-1] # Reverse of a string \n",
    "\n",
    "s1[-1:-3:-1] # Accessing last two characters in reverse order\n",
    "\n",
    "s1[len(s1)//2:len(s1)//2-2:-1]# Reverse the middle two charatcters in an even lenth string\n",
    "\n",
    "s1[::2] # Accessing alternate characters in a string\n",
    "\n",
    "s1[::-2]#Accessing alternate characters of a string a reverse order"
   ]
  },
  {
   "cell_type": "code",
   "execution_count": null,
   "metadata": {},
   "outputs": [],
   "source": []
  },
  {
   "cell_type": "markdown",
   "metadata": {},
   "source": [
    "### Functions"
   ]
  },
  {
   "cell_type": "code",
   "execution_count": 6,
   "metadata": {},
   "outputs": [
    {
     "data": {
      "text/plain": [
       "'nohtyP'"
      ]
     },
     "execution_count": 6,
     "metadata": {},
     "output_type": "execute_result"
    }
   ],
   "source": [
    "# Function to reverse a string\n",
    "def reverseString(s):\n",
    "    return s[::-1]\n",
    "\n",
    "reverseString(\"Python\")"
   ]
  },
  {
   "cell_type": "code",
   "execution_count": 7,
   "metadata": {},
   "outputs": [
    {
     "data": {
      "text/plain": [
       "False"
      ]
     },
     "execution_count": 7,
     "metadata": {},
     "output_type": "execute_result"
    }
   ],
   "source": [
    "# Function to check if a string is a palindrome\n",
    "def palindrome(s):\n",
    "    if s == s[::-1]:\n",
    "        return True\n",
    "    else:\n",
    "        return False\n",
    "    \n",
    "palindrome(\"palindrome\")\n",
    "    "
   ]
  },
  {
   "cell_type": "code",
   "execution_count": 8,
   "metadata": {},
   "outputs": [
    {
     "data": {
      "text/plain": [
       "True"
      ]
     },
     "execution_count": 8,
     "metadata": {},
     "output_type": "execute_result"
    }
   ],
   "source": [
    " # Function to check if a given year is a leap year\n",
    "def isLeapYear(year):\n",
    "    if year % 400 == 0 or (year % 100 != 0 and year % 4 == 0):\n",
    "        return True\n",
    "    return False\n",
    "isLeapYear(2020)"
   ]
  },
  {
   "cell_type": "code",
   "execution_count": 9,
   "metadata": {},
   "outputs": [
    {
     "name": "stdout",
     "output_type": "stream",
     "text": [
      "Enter number: 12345678\n",
      "8\n"
     ]
    }
   ],
   "source": [
    "# Function to count the number of digits in a given numeber\n",
    "\n",
    "n=int(input(\"Enter number: \"))\n",
    "def noDigits(n):\n",
    "    i=0\n",
    "    while n!=0:\n",
    "        i=i+1\n",
    "        n//=10\n",
    "    return i\n",
    "print(noDigits(n))"
   ]
  },
  {
   "cell_type": "code",
   "execution_count": 10,
   "metadata": {},
   "outputs": [
    {
     "data": {
      "text/plain": [
       "6"
      ]
     },
     "execution_count": 10,
     "metadata": {},
     "output_type": "execute_result"
    }
   ],
   "source": [
    "# Function to count the number of digits in a given numeber\n",
    "def countDigits(n):\n",
    "    return len(str(n))\n",
    "countDigits(134546)"
   ]
  },
  {
   "cell_type": "code",
   "execution_count": 11,
   "metadata": {},
   "outputs": [
    {
     "name": "stdout",
     "output_type": "stream",
     "text": [
      "Enter 1st number: 12\n",
      "Enter 2nd number: 23\n",
      "Enter 3rd number: 34\n",
      "Enter 4th number: 45\n",
      "45 is greater\n"
     ]
    }
   ],
   "source": [
    "# function to Identify the greatest of 4 numbers\n",
    "\n",
    "n1=int(input(\"Enter 1st number: \"))\n",
    "n2=int(input(\"Enter 2nd number: \"))\n",
    "n3=int(input(\"Enter 3rd number: \"))\n",
    "n4=int(input(\"Enter 4th number: \"))\n",
    "if n1 > n2 and n1 > n3:\n",
    "    print(n1,'is greater')\n",
    "elif n2 > n3:\n",
    "    print(n2,'is greater')\n",
    "elif n3> n4:\n",
    "    print(n3, 'is greater')\n",
    "else:\n",
    "    print(n4,'is greater')"
   ]
  },
  {
   "cell_type": "code",
   "execution_count": 12,
   "metadata": {},
   "outputs": [
    {
     "data": {
      "text/plain": [
       "456"
      ]
     },
     "execution_count": 12,
     "metadata": {},
     "output_type": "execute_result"
    }
   ],
   "source": [
    "# function to Identify the greatest of 4 numbers\n",
    "\n",
    "def greatest4(n1, n2, n3, n4):\n",
    "    if n1 > n2 and n2 > n3 and n1 > n4:\n",
    "        return n1\n",
    "    elif n2 > n3 and n2 > n4:\n",
    "        return n2\n",
    "    elif n3 > n4:\n",
    "        return n3\n",
    "    else:\n",
    "        return n4\n",
    "    \n",
    "greatest4(123, 234, 345, 456)"
   ]
  },
  {
   "cell_type": "code",
   "execution_count": null,
   "metadata": {},
   "outputs": [],
   "source": []
  },
  {
   "cell_type": "markdown",
   "metadata": {},
   "source": [
    "### Iteration\n",
    "\n",
    "* for\n",
    "* while"
   ]
  },
  {
   "cell_type": "code",
   "execution_count": 13,
   "metadata": {},
   "outputs": [
    {
     "name": "stdout",
     "output_type": "stream",
     "text": [
      "1 2 3 4 5 6 7 8 9 10 11 12 13 14 15 16 17 18 19 20 21 22 23 24 25 26 27 28 29 30 \n",
      "1 2 3 4 5 6 7 8 9 10 \n"
     ]
    }
   ],
   "source": [
    "# Function to print n natural numbers\n",
    "\n",
    "def printNNaturalNumbers(n):\n",
    "    for counter in range(1, n+1):\n",
    "        print(counter, end = \" \")\n",
    "    print()\n",
    "    return\n",
    "\n",
    "printNNaturalNumbers(30)\n",
    "printNNaturalNumbers(10)\n",
    "\n"
   ]
  },
  {
   "cell_type": "code",
   "execution_count": 14,
   "metadata": {},
   "outputs": [
    {
     "name": "stdout",
     "output_type": "stream",
     "text": [
      "1 2 3 4 5 6 7 8 9 "
     ]
    }
   ],
   "source": [
    "# Function to print N Natural numbers using a While Loop\n",
    "\n",
    "def nNaturalNumbers(n):\n",
    "    counter = 1\n",
    "    while counter <= n:\n",
    "        print(counter, end =\" \")\n",
    "        counter = counter + 1\n",
    "    return\n",
    "    \n",
    "nNaturalNumbers(9)"
   ]
  },
  {
   "cell_type": "code",
   "execution_count": null,
   "metadata": {},
   "outputs": [],
   "source": []
  },
  {
   "cell_type": "code",
   "execution_count": 15,
   "metadata": {},
   "outputs": [
    {
     "name": "stdout",
     "output_type": "stream",
     "text": [
      "Enter lower range limit:1\n",
      "Enter upper range limit:13\n",
      "6\n",
      "12\n"
     ]
    }
   ],
   "source": [
    "# Function to print all numbers divisible by 6 \n",
    "# and not a factor  of 100 in given range(lb, ub)inclusive\n",
    "\n",
    "lower=int(input(\"Enter lower range limit:\"))\n",
    "upper=int(input(\"Enter upper range limit:\"))\n",
    "n=6\n",
    "for i in range(lower,upper+1):\n",
    "    if(i%6==0 and i%100!=0):\n",
    "        print(i)"
   ]
  },
  {
   "cell_type": "code",
   "execution_count": null,
   "metadata": {},
   "outputs": [],
   "source": []
  },
  {
   "cell_type": "code",
   "execution_count": 16,
   "metadata": {},
   "outputs": [
    {
     "name": "stdout",
     "output_type": "stream",
     "text": [
      "enter lb12\n",
      "enter ub90\n",
      "201000.0\n"
     ]
    }
   ],
   "source": [
    "# Function to find the average of cubes of all even numbers in a given range(lb, ub) inclusive\n",
    "\n",
    "def avgcube(lb,ub):\n",
    "    avg=0\n",
    "    count = 0\n",
    "    for i in range (lb,ub):\n",
    "        if i%2==0:\n",
    "            avg=avg+i**3\n",
    "            count=count + 1\n",
    "    print(avg/count)\n",
    "lb = int(input(\"enter lb\"))\n",
    "ub = int(input(\"enter ub\"))\n",
    "avgcube(lb,ub)\n",
    "\n",
    "    \n",
    "\n"
   ]
  },
  {
   "cell_type": "code",
   "execution_count": 17,
   "metadata": {},
   "outputs": [
    {
     "name": "stdout",
     "output_type": "stream",
     "text": [
      "1 2 3 4 6 "
     ]
    }
   ],
   "source": [
    "# Function to generate the list of factors for a given numbers 12 -> 1 2 3 4 6 12\n",
    "\n",
    "def factors(n):\n",
    "    for i in range(1, (n//2)+1):\n",
    "        if n%i==0:\n",
    "            print(i, end = \" \")\n",
    "            #print(n)\n",
    "    return\n",
    "#n = int(input(\"enter a no\"))\n",
    "\n",
    "factors(12)\n",
    "    \n"
   ]
  },
  {
   "cell_type": "code",
   "execution_count": 2,
   "metadata": {
    "scrolled": true
   },
   "outputs": [
    {
     "name": "stdout",
     "output_type": "stream",
     "text": [
      "Enter your number12\n",
      "1 2 3 4 6 12 "
     ]
    }
   ],
   "source": [
    "# Function to calculate the factorial of a given number\n",
    "\n",
    "def factorial(n):\n",
    "    for i in range(1, n+1):\n",
    "        if n%i==0:\n",
    "            print(i, end=\" \")\n",
    "n=int(input(\"Enter your number\"))\n",
    "            \n",
    "factorial(n)"
   ]
  },
  {
   "cell_type": "code",
   "execution_count": 4,
   "metadata": {},
   "outputs": [
    {
     "data": {
      "text/plain": [
       "False"
      ]
     },
     "execution_count": 4,
     "metadata": {},
     "output_type": "execute_result"
    }
   ],
   "source": [
    "# Function to check if a given number is prime\n",
    "\n",
    "\n",
    "def factors(n):\n",
    "    count=0\n",
    "    for i in range(1, n+1):\n",
    "        if n%i==0:\n",
    "            count=count+1\n",
    "    return count\n",
    "def prime(n):\n",
    "        x=factors(n)\n",
    "        if x==2:\n",
    "            return True\n",
    "        else:\n",
    "            return False\n",
    "prime(15)        "
   ]
  },
  {
   "cell_type": "code",
   "execution_count": 27,
   "metadata": {},
   "outputs": [
    {
     "data": {
      "text/plain": [
       "3"
      ]
     },
     "execution_count": 27,
     "metadata": {},
     "output_type": "execute_result"
    }
   ],
   "source": [
    "# Function to calculate the average first N prime numbers\n",
    "\n",
    "def factors(n):\n",
    "    count=0\n",
    "    for i in range(1, n+1):\n",
    "        if n%i==0:\n",
    "            count=count+1\n",
    "    return count\n",
    "factors(9)"
   ]
  },
  {
   "cell_type": "code",
   "execution_count": 24,
   "metadata": {},
   "outputs": [
    {
     "name": "stdout",
     "output_type": "stream",
     "text": [
      "enter number4\n",
      "not a perfect number\n"
     ]
    }
   ],
   "source": [
    "# Function to generate all perfect numbers in a given range\n",
    "\n",
    "def perfectnumber(n):\n",
    "    sum=0\n",
    "    for i in range(1, n):\n",
    "        if n%i==0:\n",
    "            sum=sum+i\n",
    "    if sum==n:\n",
    "        print(\"perfect number\")\n",
    "    else:\n",
    "        print(\"not a perfect number\")\n",
    "n=int(input(\"enter number\"))\n",
    "\n",
    "perfectnumber(n)\n",
    "    \n",
    "        \n",
    "    \n"
   ]
  },
  {
   "cell_type": "code",
   "execution_count": 1,
   "metadata": {},
   "outputs": [
    {
     "name": "stdout",
     "output_type": "stream",
     "text": [
      "enter number1\n",
      "enter number12\n",
      "6 "
     ]
    }
   ],
   "source": [
    "def factors_sum(i):\n",
    "    sum=0\n",
    "    for j in range(1,(i//2)+1):\n",
    "        if i%j == 0:\n",
    "            sum+=j\n",
    "    return sum        \n",
    "def perfectnumber(lb, ub):\n",
    "    sum=0\n",
    "    for i in range(lb, ub):\n",
    "        x=factors_sum(i)\n",
    "        if x==i:\n",
    "            print(i,end=\" \")\n",
    "    return \n",
    "lb=int(input(\"enter number\"))\n",
    "ub=int(input(\"enter number\"))\n",
    "\n",
    "perfectnumber(lb, ub)\n",
    "    "
   ]
  },
  {
   "cell_type": "code",
   "execution_count": 4,
   "metadata": {},
   "outputs": [
    {
     "name": "stdout",
     "output_type": "stream",
     "text": [
      "500 504 508 512 516 520 524 "
     ]
    }
   ],
   "source": [
    "##### Function to print the alternate values in a range\n",
    "# [500, 550]-> 500 502 504 .......550\n",
    "# [500, 550]-> 501 503 505 .......549\n",
    "# range (500, 550)-> 500 501 502 ....549\n",
    "# All set based functions in python have start value is inclusive and end value is exclusive\n",
    "\n",
    "def alternatevalues(start, end):\n",
    "    for value in range(start, end+1, 4):\n",
    "        print(value, end=\" \")\n",
    "    return\n",
    "\n",
    "alternatevalues(500, 525)"
   ]
  },
  {
   "cell_type": "code",
   "execution_count": 3,
   "metadata": {},
   "outputs": [
    {
     "name": "stdout",
     "output_type": "stream",
     "text": [
      "10 9 8 7 6 5 4 3 2 1 "
     ]
    }
   ],
   "source": [
    "# Function to print reverse of given range in the same line\n",
    "\n",
    "def reverse(start, end):\n",
    "    for value in range(end, start-1,-1):\n",
    "        print(value, end =\" \")\n",
    "    return\n",
    "reverse(1, 10)"
   ]
  },
  {
   "cell_type": "code",
   "execution_count": 4,
   "metadata": {},
   "outputs": [
    {
     "name": "stdout",
     "output_type": "stream",
     "text": [
      "10 8 6 4 2 "
     ]
    }
   ],
   "source": [
    "# Alternate numbers in reverse order\n",
    "\n",
    "def reverse(start, end):\n",
    "    for value in range(end, start-1,-2):\n",
    "        print(value, end =\" \")\n",
    "    return\n",
    "reverse(1, 10)"
   ]
  },
  {
   "cell_type": "code",
   "execution_count": 8,
   "metadata": {},
   "outputs": [
    {
     "name": "stdout",
     "output_type": "stream",
     "text": [
      "9 7 5 3 1 "
     ]
    }
   ],
   "source": [
    "# Function to print the odd numbers in reverse order in a range\n",
    "def reverseodd(start, end):\n",
    "    for value in range(end, start-1,-1):\n",
    "        if value%2!=0:\n",
    "            print(value, end=\" \")\n",
    "    return\n",
    "    \n",
    "reverseodd(1, 10)"
   ]
  },
  {
   "cell_type": "code",
   "execution_count": 3,
   "metadata": {},
   "outputs": [
    {
     "data": {
      "text/plain": [
       "55"
      ]
     },
     "execution_count": 3,
     "metadata": {},
     "output_type": "execute_result"
    }
   ],
   "source": [
    "# Function to calculate the sum of numbers in a range\n",
    "\n",
    "def sumofnumbers(start, end):\n",
    "    sum=0\n",
    "    for i in range(start, end+1):\n",
    "        sum=sum+i\n",
    "    return sum\n",
    "sumofnumbers(1, 10)"
   ]
  },
  {
   "cell_type": "code",
   "execution_count": 17,
   "metadata": {},
   "outputs": [
    {
     "data": {
      "text/plain": [
       "3.0"
      ]
     },
     "execution_count": 17,
     "metadata": {},
     "output_type": "execute_result"
    }
   ],
   "source": [
    "# Function to calculate the average of a given range\n",
    "\n",
    "def avgrange(start, end):\n",
    "    sum=0\n",
    "    count=0\n",
    "    for i in range(start, end+1):\n",
    "        sum=sum+i\n",
    "        count=count+1\n",
    "        avg=sum/count\n",
    "    return avg\n",
    "avgrange(1, 5)"
   ]
  },
  {
   "cell_type": "code",
   "execution_count": 14,
   "metadata": {},
   "outputs": [
    {
     "name": "stdout",
     "output_type": "stream",
     "text": [
      "1920 1924 1928 1932 1936 1940 1944 1948 1952 1956 1960 1964 1968 1972 1976 1980 1984 1988 1992 1996 2000 2004 2008 2012 2016 2020 "
     ]
    }
   ],
   "source": [
    "# Function to generate all leap years in a given time period\n",
    "# 2000 - 2020 -> 2000 2004 2008 2012 2016 2020\n",
    "\n",
    "def isLeapyear(year): \n",
    "    if (((year % 4 == 0) and\n",
    "             (year % 100 != 0)) or\n",
    "             (year % 400 == 0)):\n",
    "        return True\n",
    "    return False\n",
    "\n",
    "def leapyears(start, end):\n",
    "    for year in range(start, end+1):\n",
    "        if isLeapyear(year):\n",
    "            print(year, end=\" \")\n",
    "    return\n",
    "\n",
    "leapyears(1919, 2020)\n"
   ]
  },
  {
   "cell_type": "code",
   "execution_count": 17,
   "metadata": {},
   "outputs": [
    {
     "data": {
      "text/plain": [
       "730"
      ]
     },
     "execution_count": 17,
     "metadata": {},
     "output_type": "execute_result"
    }
   ],
   "source": [
    "# Calculate number of days in a given time period using leap year\n",
    "\n",
    "def noofdays(startyear, endyear):\n",
    "    sum=0\n",
    "    for year in range(startyear, endyear+1):\n",
    "        if isLeapyear(year):\n",
    "            sum=sum+365\n",
    "        else:\n",
    "            sum = sum + 365\n",
    "    return sum\n",
    "noofdays(2000, 2001)\n",
    "    "
   ]
  },
  {
   "cell_type": "code",
   "execution_count": 2,
   "metadata": {},
   "outputs": [],
   "source": []
  },
  {
   "cell_type": "code",
   "execution_count": 18,
   "metadata": {},
   "outputs": [
    {
     "data": {
      "text/plain": [
       "205104"
      ]
     },
     "execution_count": 18,
     "metadata": {},
     "output_type": "execute_result"
    }
   ],
   "source": [
    "# Function to calculate number of hours for a given period (11, 1975, 3, 1999)\n",
    "\n",
    "\n",
    "def noofdaymonth(month, year):\n",
    "    if month ==2:\n",
    "        if isLeapyear(year):\n",
    "            return 29\n",
    "        return 28\n",
    "    elif(month<=7 and month%2!=0)or(month>=7 and month%2==0):\n",
    "        return 31\n",
    "    return 30\n",
    "def daysinstartyear(startmonth, startyear):\n",
    "    days=0\n",
    "    for month in range(startmonth, 13):\n",
    "        days+=noofdaymonth(month, startyear)\n",
    "    return days\n",
    "daysinstartyear(6, 2019)\n",
    "\n",
    "def daysinendyear(endmonth, endyear):\n",
    "    days=0\n",
    "    for month in range(1, endmonth+1):\n",
    "        days+=noofdaymonth(month, endyear)\n",
    "    return days\n",
    "def noofhours(startmonth, startyear, endmonth, endyear):\n",
    "    days=0\n",
    "    days+=daysinstartyear(startmonth, startyear)\n",
    "    days+=daysinendyear(endmonth, endyear)\n",
    "    if endyear-startyear==2:\n",
    "        days+=noofdays(startyear+1, endyear-1)\n",
    "    elif endyear-startyear>2:\n",
    "        days+=noofdays(startyear+1, endyear-1)\n",
    "    return 24* days \n",
    "\n",
    "noofhours(11, 1975, 3, 1999)\n",
    "            \n",
    "        "
   ]
  },
  {
   "cell_type": "code",
   "execution_count": null,
   "metadata": {},
   "outputs": [],
   "source": []
  }
 ],
 "metadata": {
  "kernelspec": {
   "display_name": "Python 3",
   "language": "python",
   "name": "python3"
  },
  "language_info": {
   "codemirror_mode": {
    "name": "ipython",
    "version": 3
   },
   "file_extension": ".py",
   "mimetype": "text/x-python",
   "name": "python",
   "nbconvert_exporter": "python",
   "pygments_lexer": "ipython3",
   "version": "3.7.3"
  }
 },
 "nbformat": 4,
 "nbformat_minor": 2
}
